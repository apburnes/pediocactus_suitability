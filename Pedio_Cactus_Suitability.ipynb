{
 "metadata": {
  "name": "Pedio_Cactus_Suitability"
 },
 "nbformat": 3,
 "nbformat_minor": 0,
 "worksheets": [
  {
   "cells": [
    {
     "cell_type": "markdown",
     "metadata": {},
     "source": [
      "#Suitability of the Pediocactus *(Peeblesianus)*\n",
      "=====================================================================================\n",
      "\n",
      "__Using a colletion of field points of existing Pediocactus to determine the ideal conditions for the cactus to grow/survive__\n",
      "\n",
      "*Data Value Inputs*\n",
      "\n",
      "- Elevation\n",
      "- Slope\n",
      "- Aspect\n",
      "- Precipitation\n",
      "\n",
      "***The goal of the anaylsis is to produce a raster surface across Northern Arizona which provides the locations of potential habitats***"
     ]
    },
    {
     "cell_type": "markdown",
     "metadata": {},
     "source": [
      "\n",
      "</br>\n",
      "1. __Let's import the proper Python modules and dataset.__\n",
      "\n",
      "```python\n",
      "import numpy as np\n",
      "import pandas ad pd\n",
      "from osgeo import ...\n",
      "```"
     ]
    },
    {
     "cell_type": "code",
     "collapsed": false,
     "input": [
      "import numpy as np\n",
      "import matplotlib.pyplot as plt\n",
      "import pandas as pd\n",
      "from osgeo import gdal, ogr\n",
      "import time, os\n",
      "\n",
      "csv_file = \"./pedio_cactus.csv\"\n",
      "\n",
      "col_names = ['fid', 'northing', 'easting', 'species', 'musym', 'areasymbol', \n",
      "             'lru', 'esd', 'aspct', 'slope', 'dem', 'fall09', 'fall11', \n",
      "             'sprng09', 'spring10', 'precip']\n",
      "\n",
      "data = pd.read_csv(csv_file, names=col_names)"
     ],
     "language": "python",
     "metadata": {},
     "outputs": [],
     "prompt_number": 23
    },
    {
     "cell_type": "code",
     "collapsed": false,
     "input": [
      "data\n"
     ],
     "language": "python",
     "metadata": {},
     "outputs": [
      {
       "metadata": {},
       "output_type": "pyout",
       "prompt_number": 24,
       "text": [
        "<class 'pandas.core.frame.DataFrame'>\n",
        "Int64Index: 39 entries, 0 to 38\n",
        "Data columns:\n",
        "fid           1  non-null values\n",
        "northing      39  non-null values\n",
        "easting       39  non-null values\n",
        "species       39  non-null values\n",
        "musym         39  non-null values\n",
        "areasymbol    39  non-null values\n",
        "lru           39  non-null values\n",
        "esd           39  non-null values\n",
        "aspct         39  non-null values\n",
        "slope         39  non-null values\n",
        "dem           39  non-null values\n",
        "fall09        39  non-null values\n",
        "fall11        39  non-null values\n",
        "sprng09       39  non-null values\n",
        "spring10      39  non-null values\n",
        "precip        39  non-null values\n",
        "dtypes: object(16)"
       ]
      }
     ],
     "prompt_number": 24
    },
    {
     "cell_type": "code",
     "collapsed": false,
     "input": [],
     "language": "python",
     "metadata": {},
     "outputs": []
    }
   ],
   "metadata": {}
  }
 ]
}